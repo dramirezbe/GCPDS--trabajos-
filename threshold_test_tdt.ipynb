{
 "cells": [
  {
   "cell_type": "code",
   "execution_count": 26,
   "metadata": {},
   "outputs": [],
   "source": [
    "import os\n",
    "import re\n",
    "import numpy as np\n",
    "import matplotlib.pyplot as plt\n",
    "import scipy.signal as sig\n",
    "\n",
    "def extract_sample_number(file_name):\n",
    "    match = re.search(r'sample #(\\d+)', file_name)\n",
    "    if match:\n",
    "        return int(match.group(1))\n",
    "    # Return a large number to push files without sample numbers to the end\n",
    "    return float('inf')\n",
    "\n",
    "def data_SDR(path_folder):\n",
    "    # List all files in the folder\n",
    "    file_list = os.listdir(path_folder)\n",
    "\n",
    "    # Sort files by sample number\n",
    "    sorted_file_list = sorted(file_list, key=extract_sample_number)\n",
    "\n",
    "    # Initialize data matrix based on the sorted file list\n",
    "    exploration_path = os.path.join(path_folder, sorted_file_list[0])\n",
    "    data_exploration = np.load(exploration_path)\n",
    "    \n",
    "    # Check if the data is complex\n",
    "    is_complex = np.iscomplexobj(data_exploration)\n",
    "    \n",
    "    # Initialize the data matrix with the correct dtype\n",
    "    data_matrix = np.zeros((len(sorted_file_list), data_exploration.shape[0]), dtype=complex if is_complex else float)\n",
    "\n",
    "    # Load all files into data_matrix\n",
    "    for pos, file_name in enumerate(sorted_file_list):\n",
    "        full_path = os.path.join(path_folder, file_name)\n",
    "        print(f'file {full_path} Done.')\n",
    "        data = np.load(full_path)\n",
    "        #print(f\"Loading {file_name} (sample #{extract_sample_number(file_name)}), shape = {data.shape}\")\n",
    "        data_matrix[pos] = data\n",
    "\n",
    "    print(\"Data matrix loading complete.\")\n",
    "    return data_matrix\n",
    "\n",
    "class AdaptiveThreshold:\n",
    "    def __init__(self, frecuencia, Pxx):\n",
    "        self.frecuencia = frecuencia\n",
    "        self.Pxx = Pxx\n",
    "\n",
    "    @staticmethod\n",
    "    def basic_threshold(Pxx_window, percentage_threshold):\n",
    "        threshold = np.mean(Pxx_window)\n",
    "        \n",
    "        while True:\n",
    "            points_below_threshold = np.sum(Pxx_window < threshold)\n",
    "            total_points = len(Pxx_window)\n",
    "\n",
    "            percentage_below = points_below_threshold / total_points\n",
    "\n",
    "            if percentage_below < percentage_threshold:\n",
    "                break\n",
    "\n",
    "            threshold *= 0.95\n",
    "        return threshold\n",
    "    \n",
    "    def window_threshold(self, num_splits, percentage_threshold):\n",
    "        N = len(self.Pxx)\n",
    "        window_size = N // num_splits\n",
    "        thresholds = []\n",
    "\n",
    "        for i in range(num_splits):\n",
    "            lim_inf = i * window_size\n",
    "            lim_sup = min((i + 1) * window_size, N)\n",
    "            \n",
    "            window_Pxx = self.Pxx[lim_inf:lim_sup]\n",
    "            threshold = self.basic_threshold(window_Pxx, percentage_threshold)\n",
    "            \n",
    "            # Guardar un solo umbral por ventana\n",
    "            thresholds.append(threshold)\n",
    "\n",
    "        return np.array(thresholds)"
   ]
  },
  {
   "cell_type": "code",
   "execution_count": 27,
   "metadata": {},
   "outputs": [
    {
     "name": "stdout",
     "output_type": "stream",
     "text": [
      "file C:\\Samples-tdt-Hack-RF\\tdt.npy Done.\n",
      "file C:\\Samples-tdt-Hack-RF\\tdt_2.npy Done.\n",
      "file C:\\Samples-tdt-Hack-RF\\tdt_3.npy Done.\n",
      "Data matrix loading complete.\n",
      "Matrix shape=  (3, 20000000)\n",
      "Shape tdt_1= (20000000,)\n",
      "Shape tdt_2= (20000000,)\n",
      "Shape tdt_3= (20000000,)\n"
     ]
    }
   ],
   "source": [
    "folder_path = r'C:\\Samples-tdt-Hack-RF'\n",
    "\n",
    "tdt_matrix = data_SDR(folder_path)\n",
    "print('Matrix shape= ', tdt_matrix.shape)\n",
    "for i in range(tdt_matrix.shape[0]):\n",
    "    print(f'Shape tdt_{i+1}= {tdt_matrix[i].shape}')"
   ]
  },
  {
   "cell_type": "code",
   "execution_count": null,
   "metadata": {},
   "outputs": [],
   "source": [
    "fs_bw = 20e6  # Frecuencia de muestreo (ajustar a la frecuencia de muestreo de tu SDR)\n",
    "\n",
    "for i in range(tdt_matrix.shape[0]):\n",
    "    freq, Pxx = sig.welch(tdt_matrix[i], fs=fs_bw, nperseg=1024, scaling='density', return_onesided=False)\n",
    "    adaptive = AdaptiveThreshold(freq, Pxx)\n",
    "    threshold = adaptive.window_threshold(10, 0.3)\n",
    "    plt.figure(figsize=(18,6))\n",
    "    plt.semilogy(freq, Pxx)\n",
    "    plt.plot(freq, threshold, color='orange')\n",
    "    plt.show()"
   ]
  }
 ],
 "metadata": {
  "kernelspec": {
   "display_name": "Python 3",
   "language": "python",
   "name": "python3"
  },
  "language_info": {
   "codemirror_mode": {
    "name": "ipython",
    "version": 3
   },
   "file_extension": ".py",
   "mimetype": "text/x-python",
   "name": "python",
   "nbconvert_exporter": "python",
   "pygments_lexer": "ipython3",
   "version": "3.12.5"
  }
 },
 "nbformat": 4,
 "nbformat_minor": 2
}
