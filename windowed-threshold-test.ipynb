{
 "cells": [
  {
   "cell_type": "code",
   "execution_count": 9,
   "metadata": {},
   "outputs": [],
   "source": [
    "import os\n",
    "import re\n",
    "import numpy as np\n",
    "import matplotlib.pyplot as plt\n",
    "import scipy.signal as sig\n",
    "\n",
    "def extract_sample_number(file_name):\n",
    "    match = re.search(r'sample #(\\d+)', file_name)\n",
    "    if match:\n",
    "        return int(match.group(1))\n",
    "    # Return a large number to push files without sample numbers to the end\n",
    "    return float('inf')\n",
    "\n",
    "def data_SDR(path_folder):\n",
    "    # List all files in the folder\n",
    "    file_list = os.listdir(path_folder)\n",
    "\n",
    "    # Sort files by sample number\n",
    "    sorted_file_list = sorted(file_list, key=extract_sample_number)\n",
    "\n",
    "    # Initialize data matrix based on the sorted file list\n",
    "    exploration_path = os.path.join(path_folder, sorted_file_list[0])\n",
    "    data_exploration = np.load(exploration_path)\n",
    "    \n",
    "    # Check if the data is complex\n",
    "    is_complex = np.iscomplexobj(data_exploration)\n",
    "    \n",
    "    # Initialize the data matrix with the correct dtype\n",
    "    data_matrix = np.zeros((len(sorted_file_list), data_exploration.shape[0]), dtype=complex if is_complex else float)\n",
    "\n",
    "    # Load all files into data_matrix\n",
    "    for pos, file_name in enumerate(sorted_file_list):\n",
    "        full_path = os.path.join(path_folder, file_name)\n",
    "        print(f'file {full_path} Done.')\n",
    "        data = np.load(full_path)\n",
    "        #print(f\"Loading {file_name} (sample #{extract_sample_number(file_name)}), shape = {data.shape}\")\n",
    "        data_matrix[pos] = data\n",
    "\n",
    "    print(\"Data matrix loading complete.\")\n",
    "    return data_matrix\n",
    "\n",
    "def basic_threshold(Pxx_window, percentage_threshold):\n",
    "        threshold = np.mean(Pxx_window)\n",
    "        \n",
    "        while True:\n",
    "            points_below_threshold = np.sum(Pxx_window < threshold)\n",
    "            total_points = len(Pxx_window)\n",
    "\n",
    "            percentage_below = points_below_threshold / total_points\n",
    "\n",
    "            if percentage_below < percentage_threshold:\n",
    "                break\n",
    "\n",
    "            threshold *= 0.95\n",
    "        return threshold"
   ]
  },
  {
   "cell_type": "code",
   "execution_count": 10,
   "metadata": {},
   "outputs": [
    {
     "name": "stdout",
     "output_type": "stream",
     "text": [
      "file C:\\Samples-tdt-Hack-RF\\tdt.npy Done.\n",
      "file C:\\Samples-tdt-Hack-RF\\tdt_2.npy Done.\n",
      "file C:\\Samples-tdt-Hack-RF\\tdt_3.npy Done.\n",
      "Data matrix loading complete.\n",
      "Matrix shape= (3,20000000)\n",
      "Shape tdt_1= (20000000,)\n",
      "Shape tdt_2= (20000000,)\n",
      "Shape tdt_3= (20000000,)\n"
     ]
    },
    {
     "ename": "ValueError",
     "evalue": "could not broadcast input array from shape (1024,) into shape (10000000,)",
     "output_type": "error",
     "traceback": [
      "\u001b[1;31m---------------------------------------------------------------------------\u001b[0m",
      "\u001b[1;31mValueError\u001b[0m                                Traceback (most recent call last)",
      "Cell \u001b[1;32mIn[10], line 15\u001b[0m\n\u001b[0;32m     13\u001b[0m \u001b[38;5;28;01mfor\u001b[39;00m i \u001b[38;5;129;01min\u001b[39;00m \u001b[38;5;28mrange\u001b[39m(M):\n\u001b[0;32m     14\u001b[0m     freq, Pxx \u001b[38;5;241m=\u001b[39m sig\u001b[38;5;241m.\u001b[39mwelch(tdt_matrix[i], fs\u001b[38;5;241m=\u001b[39mfs_bw, nperseg\u001b[38;5;241m=\u001b[39m\u001b[38;5;241m1024\u001b[39m, scaling\u001b[38;5;241m=\u001b[39m\u001b[38;5;124m'\u001b[39m\u001b[38;5;124mdensity\u001b[39m\u001b[38;5;124m'\u001b[39m, return_onesided\u001b[38;5;241m=\u001b[39m\u001b[38;5;28;01mFalse\u001b[39;00m)\n\u001b[1;32m---> 15\u001b[0m     \u001b[43mpsd_matrix\u001b[49m\u001b[43m[\u001b[49m\u001b[43mi\u001b[49m\u001b[43m]\u001b[49m \u001b[38;5;241m=\u001b[39m Pxx\n",
      "\u001b[1;31mValueError\u001b[0m: could not broadcast input array from shape (1024,) into shape (10000000,)"
     ]
    }
   ],
   "source": [
    "folder_path = r'C:\\Samples-tdt-Hack-RF'\n",
    "\n",
    "tdt_matrix = data_SDR(folder_path)\n",
    "M, N = tdt_matrix.shape\n",
    "print(f'Matrix shape= ({M},{N})')\n",
    "for i in range(tdt_matrix.shape[0]):\n",
    "    print(f'Shape tdt_{i+1}= {tdt_matrix[i].shape}')\n",
    "\n",
    "    \n",
    "fs_bw = 20e6  # Frecuencia de muestreo (ajustar a la frecuencia de muestreo de tu SDR)\n",
    "nperseg = N - 1\n",
    "psd_matrix = np.zeros((M,(nperseg//2) + 1))\n",
    "for i in range(M):\n",
    "    freq, Pxx = sig.welch(tdt_matrix[i], fs=fs_bw, nperseg=1024, scaling='density', return_onesided=False)\n",
    "    psd_matrix[i] = Pxx"
   ]
  }
 ],
 "metadata": {
  "kernelspec": {
   "display_name": "Python 3",
   "language": "python",
   "name": "python3"
  },
  "language_info": {
   "codemirror_mode": {
    "name": "ipython",
    "version": 3
   },
   "file_extension": ".py",
   "mimetype": "text/x-python",
   "name": "python",
   "nbconvert_exporter": "python",
   "pygments_lexer": "ipython3",
   "version": "3.12.5"
  }
 },
 "nbformat": 4,
 "nbformat_minor": 2
}
