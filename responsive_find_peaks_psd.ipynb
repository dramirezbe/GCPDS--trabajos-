{
 "cells": [
  {
   "cell_type": "code",
   "execution_count": 7,
   "metadata": {},
   "outputs": [],
   "source": [
    "import os\n",
    "import re\n",
    "import numpy as np\n",
    "import matplotlib.pyplot as plt\n",
    "import scipy"
   ]
  },
  {
   "cell_type": "code",
   "execution_count": 8,
   "metadata": {},
   "outputs": [],
   "source": [
    "def extract_sample_number(file_name):\n",
    "    match = re.search(r'sample #(\\d+)', file_name)\n",
    "    if match:\n",
    "        return int(match.group(1))\n",
    "    # Return a large number to push files without sample numbers to the end\n",
    "    return float('inf')\n",
    "\n",
    "def data_SDR(path_folder):\n",
    "    # List all files in the folder\n",
    "    file_list = os.listdir(path_folder)\n",
    "\n",
    "    # Sort files by sample number\n",
    "    sorted_file_list = sorted(file_list, key=extract_sample_number)\n",
    "\n",
    "    # Initialize data matrix based on the sorted file list\n",
    "    exploration_path = os.path.join(path_folder, sorted_file_list[0])\n",
    "    data_exploration = np.load(exploration_path)\n",
    "    \n",
    "    # Check if the data is complex\n",
    "    is_complex = np.iscomplexobj(data_exploration)\n",
    "    \n",
    "    # Initialize the data matrix with the correct dtype\n",
    "    data_matrix = np.zeros((len(sorted_file_list), data_exploration.shape[0]), dtype=complex if is_complex else float)\n",
    "\n",
    "    # Load all files into data_matrix\n",
    "    for pos, file_name in enumerate(sorted_file_list):\n",
    "        full_path = os.path.join(path_folder, file_name)\n",
    "        data = np.load(full_path)\n",
    "        #print(f\"Loading {file_name} (sample #{extract_sample_number(file_name)}), shape = {data.shape}\")\n",
    "        data_matrix[pos] = data\n",
    "\n",
    "    print(\"Data matrix loading complete.\")\n",
    "    return data_matrix"
   ]
  },
  {
   "cell_type": "code",
   "execution_count": 9,
   "metadata": {},
   "outputs": [
    {
     "name": "stdout",
     "output_type": "stream",
     "text": [
      "Data matrix loading complete.\n"
     ]
    }
   ],
   "source": [
    "path_file_folder = r'C:\\Samples-Hack-RF'\n",
    "data_matrix = data_SDR(path_file_folder)\n",
    "\n",
    "r_signal = data_matrix[6]\n",
    "\n",
    "fs = 20e6  # Frecuencia de muestreo (ajustar a la frecuencia de muestreo de tu SDR)\n",
    "time_sample = 0.01  # Duración total en segundos\n",
    "num_samples = int(fs * time_sample)\n",
    "t = np.linspace(0, time_sample, num_samples)"
   ]
  },
  {
   "cell_type": "code",
   "execution_count": null,
   "metadata": {},
   "outputs": [],
   "source": [
    "f, Pxx = scipy.signal.welch(r_signal, fs=fs, nperseg=1024, scaling='density')\n",
    "f, Pxx = scipy.signal.find_peaks(Pxx)"
   ]
  }
 ],
 "metadata": {
  "kernelspec": {
   "display_name": "Python 3",
   "language": "python",
   "name": "python3"
  },
  "language_info": {
   "codemirror_mode": {
    "name": "ipython",
    "version": 3
   },
   "file_extension": ".py",
   "mimetype": "text/x-python",
   "name": "python",
   "nbconvert_exporter": "python",
   "pygments_lexer": "ipython3",
   "version": "3.12.5"
  }
 },
 "nbformat": 4,
 "nbformat_minor": 2
}
