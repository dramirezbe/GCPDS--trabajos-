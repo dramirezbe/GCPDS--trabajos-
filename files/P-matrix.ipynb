{
 "cells": [
  {
   "cell_type": "code",
   "execution_count": 10,
   "metadata": {},
   "outputs": [],
   "source": [
    "import os\n",
    "import re\n",
    "import numpy as np\n",
    "import matplotlib.pyplot as plt\n",
    "import scipy"
   ]
  },
  {
   "cell_type": "code",
   "execution_count": 23,
   "metadata": {},
   "outputs": [],
   "source": [
    "# Extract sample number using regex and sort by sample number\n",
    "def extract_sample_number(file_name):\n",
    "    match = re.search(r'sample #(\\d+)', file_name)\n",
    "    if match:\n",
    "        return int(match.group(1))\n",
    "    # Return a large number to push files without sample numbers to the end\n",
    "    return float('inf')\n",
    "\n",
    "def calcular_matriz_P(data_matrix, fs, ancho_banda):\n",
    "    # Dimensiones de la matriz de datos (n_señales x n_muestras)\n",
    "    n_signals, n_samples = data_matrix.shape\n",
    "\n",
    "    # Calculamos los parámetros para Welch\n",
    "    n_fft = int(fs / ancho_banda)  # n_fft = 20e6 / 200e3 = 100\n",
    "\n",
    "    # Inicializamos la matriz P: (n_signals x número de bandas)\n",
    "    num_bandas = n_fft // 2 + 1  # Solo mitad positiva del espectro\n",
    "    P = np.zeros((n_signals, num_bandas))\n",
    "\n",
    "    # Calculamos el espectro para cada señal (fila de data_matrix)\n",
    "    for i in range(n_signals):\n",
    "        f, Pxx = scipy.signal.welch(\n",
    "            data_matrix[i, :], \n",
    "            fs=fs, \n",
    "            nperseg=n_fft,  # Segmentación por 100 puntos\n",
    "            nfft=n_fft         # Asegura el ancho de 200 kHz por banda\n",
    "        )\n",
    "        P[i, :] = Pxx  # Guardamos en la matriz P\n"
   ]
  },
  {
   "cell_type": "code",
   "execution_count": 21,
   "metadata": {},
   "outputs": [
    {
     "name": "stdout",
     "output_type": "stream",
     "text": [
      "Data matrix loading complete.\n"
     ]
    }
   ],
   "source": [
    "\n",
    "try:\n",
    "    path_file_folder = r'C:\\Samples-Hack-RF'\n",
    "\n",
    "    # List all files in the folder\n",
    "    file_list = os.listdir(path_file_folder)\n",
    "\n",
    "    # Sort files by sample number\n",
    "    sorted_file_list = sorted(file_list, key=extract_sample_number)\n",
    "\n",
    "    # Initialize data matrix based on the sorted file list\n",
    "    exploration_path = os.path.join(path_file_folder, sorted_file_list[0])\n",
    "    data_exploration = np.load(exploration_path)\n",
    "    \n",
    "    # Aquí cambiamos a complex128 para manejar los valores complejos\n",
    "    data_matrix = np.zeros((len(sorted_file_list), data_exploration.shape[0]), dtype=np.complex128)\n",
    "\n",
    "    # Load all files into data_matrix\n",
    "    for pos, file_name in enumerate(sorted_file_list):\n",
    "        full_path = os.path.join(path_file_folder, file_name)\n",
    "        data = np.load(full_path)\n",
    "        data_matrix[pos] = data\n",
    "\n",
    "    print(\"Data matrix loading complete.\")\n",
    "\n",
    "except FileNotFoundError as fnf_error:\n",
    "    print(f\"Error: {fnf_error}\")\n",
    "except Exception as e:\n",
    "    print(f\"An unexpected error occurred: {e}\")\n"
   ]
  },
  {
   "cell_type": "code",
   "execution_count": 24,
   "metadata": {},
   "outputs": [
    {
     "name": "stderr",
     "output_type": "stream",
     "text": [
      "c:\\Users\\david\\AppData\\Local\\Programs\\Python\\Python312\\Lib\\site-packages\\scipy\\signal\\_spectral_py.py:462: UserWarning: Input data is complex, switching to return_onesided=False\n",
      "  freqs, Pxx = csd(x, x, fs=fs, window=window, nperseg=nperseg,\n"
     ]
    },
    {
     "ename": "ValueError",
     "evalue": "could not broadcast input array from shape (100,) into shape (51,)",
     "output_type": "error",
     "traceback": [
      "\u001b[1;31m---------------------------------------------------------------------------\u001b[0m",
      "\u001b[1;31mValueError\u001b[0m                                Traceback (most recent call last)",
      "Cell \u001b[1;32mIn[24], line 6\u001b[0m\n\u001b[0;32m      3\u001b[0m ancho_banda \u001b[38;5;241m=\u001b[39m \u001b[38;5;241m200e3\u001b[39m  \u001b[38;5;66;03m# Ancho de banda de 200 kHz\u001b[39;00m\n\u001b[0;32m      5\u001b[0m \u001b[38;5;66;03m# Llamada a la función con tu matriz de datos\u001b[39;00m\n\u001b[1;32m----> 6\u001b[0m f, Psd_m \u001b[38;5;241m=\u001b[39m \u001b[43mcalcular_matriz_P\u001b[49m\u001b[43m(\u001b[49m\u001b[43mdata_matrix\u001b[49m\u001b[43m,\u001b[49m\u001b[43m \u001b[49m\u001b[43mfs\u001b[49m\u001b[43m,\u001b[49m\u001b[43m \u001b[49m\u001b[43mnperseg\u001b[49m\u001b[43m,\u001b[49m\u001b[43m \u001b[49m\u001b[43mancho_banda\u001b[49m\u001b[43m)\u001b[49m\n\u001b[0;32m      8\u001b[0m \u001b[38;5;28mprint\u001b[39m(\u001b[38;5;124mf\u001b[39m\u001b[38;5;124m\"\u001b[39m\u001b[38;5;124mFrecuencias: \u001b[39m\u001b[38;5;132;01m{\u001b[39;00mf\u001b[38;5;132;01m}\u001b[39;00m\u001b[38;5;124m\"\u001b[39m)\n\u001b[0;32m      9\u001b[0m \u001b[38;5;28mprint\u001b[39m(\u001b[38;5;124mf\u001b[39m\u001b[38;5;124m\"\u001b[39m\u001b[38;5;124mMatriz PSD (M observaciones x Canales x Frecuencias): \u001b[39m\u001b[38;5;132;01m{\u001b[39;00mPsd_m\u001b[38;5;241m.\u001b[39mshape\u001b[38;5;132;01m}\u001b[39;00m\u001b[38;5;124m\"\u001b[39m)\n",
      "Cell \u001b[1;32mIn[23], line 29\u001b[0m, in \u001b[0;36mcalcular_matriz_P\u001b[1;34m(data_matrix, fs, nperseg, ancho_banda)\u001b[0m\n\u001b[0;32m     22\u001b[0m \u001b[38;5;28;01mfor\u001b[39;00m i \u001b[38;5;129;01min\u001b[39;00m \u001b[38;5;28mrange\u001b[39m(n_signals):\n\u001b[0;32m     23\u001b[0m     f, Pxx \u001b[38;5;241m=\u001b[39m scipy\u001b[38;5;241m.\u001b[39msignal\u001b[38;5;241m.\u001b[39mwelch(\n\u001b[0;32m     24\u001b[0m         data_matrix[i, :], \n\u001b[0;32m     25\u001b[0m         fs\u001b[38;5;241m=\u001b[39mfs, \n\u001b[0;32m     26\u001b[0m         nperseg\u001b[38;5;241m=\u001b[39mnperseg,  \u001b[38;5;66;03m# Segmentación por 100 puntos\u001b[39;00m\n\u001b[0;32m     27\u001b[0m         nfft\u001b[38;5;241m=\u001b[39mn_fft         \u001b[38;5;66;03m# Asegura el ancho de 200 kHz por banda\u001b[39;00m\n\u001b[0;32m     28\u001b[0m     )\n\u001b[1;32m---> 29\u001b[0m     \u001b[43mP\u001b[49m\u001b[43m[\u001b[49m\u001b[43mi\u001b[49m\u001b[43m,\u001b[49m\u001b[43m \u001b[49m\u001b[43m:\u001b[49m\u001b[43m]\u001b[49m \u001b[38;5;241m=\u001b[39m Pxx\n",
      "\u001b[1;31mValueError\u001b[0m: could not broadcast input array from shape (100,) into shape (51,)"
     ]
    }
   ],
   "source": [
    "fs = 20e6  # Frecuencia de muestreo (ajustar a la frecuencia de muestreo de tu SDR)\n",
    "ancho_banda = 200e3  # Ancho de banda de 200 kHz\n",
    "\n",
    "# Llamada a la función con tu matriz de datos\n",
    "f, Psd_m = calcular_matriz_P(data_matrix, fs, ancho_banda)\n",
    "\n",
    "print(f\"Frecuencias: {f}\")\n",
    "print(f\"Matriz PSD (M observaciones x Canales x Frecuencias): {Psd_m.shape}\")\n"
   ]
  }
 ],
 "metadata": {
  "kernelspec": {
   "display_name": "Python 3",
   "language": "python",
   "name": "python3"
  },
  "language_info": {
   "codemirror_mode": {
    "name": "ipython",
    "version": 3
   },
   "file_extension": ".py",
   "mimetype": "text/x-python",
   "name": "python",
   "nbconvert_exporter": "python",
   "pygments_lexer": "ipython3",
   "version": "3.12.5"
  }
 },
 "nbformat": 4,
 "nbformat_minor": 2
}
